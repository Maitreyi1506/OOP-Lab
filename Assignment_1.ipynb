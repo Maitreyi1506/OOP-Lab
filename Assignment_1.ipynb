{
  "nbformat": 4,
  "nbformat_minor": 0,
  "metadata": {
    "colab": {
      "name": "Assignment 1.ipynb",
      "provenance": [],
      "authorship_tag": "ABX9TyP1CAvnX85OOGSOZST4AbaM",
      "include_colab_link": true
    },
    "kernelspec": {
      "name": "python3",
      "display_name": "Python 3"
    },
    "language_info": {
      "name": "python"
    }
  },
  "cells": [
    {
      "cell_type": "markdown",
      "metadata": {
        "id": "view-in-github",
        "colab_type": "text"
      },
      "source": [
        "<a href=\"https://colab.research.google.com/github/Maitreyi1506/OOP-Lab/blob/main/Assignment_1.ipynb\" target=\"_parent\"><img src=\"https://colab.research.google.com/assets/colab-badge.svg\" alt=\"Open In Colab\"/></a>"
      ]
    },
    {
      "cell_type": "markdown",
      "metadata": {
        "id": "ja4X8e16tsVp"
      },
      "source": [
        "# Problem 1\n"
      ]
    },
    {
      "cell_type": "code",
      "metadata": {
        "colab": {
          "base_uri": "https://localhost:8080/"
        },
        "id": "4d_kQNPHtwue",
        "outputId": "3e6353e1-116f-4870-9e7e-e890f198c355"
      },
      "source": [
        "def leap(year):\n",
        "    if (year%4==0):\n",
        "        if (year%100==0):\n",
        "            if (year%400==0):\n",
        "                return True\n",
        "            else:\n",
        "                return False\n",
        "        else:\n",
        "            return True\n",
        "    else: \n",
        "        return False\n",
        "\n",
        "year=1900\n",
        "if (leap(year)):\n",
        "    print(\"Leap year\")\n",
        "else:\n",
        "    print(\"Not a leap year\")\n"
      ],
      "execution_count": null,
      "outputs": [
        {
          "output_type": "stream",
          "name": "stdout",
          "text": [
            "Not a leap year\n"
          ]
        }
      ]
    },
    {
      "cell_type": "markdown",
      "metadata": {
        "id": "enXgwkhmvmJS"
      },
      "source": [
        "# Problem 2"
      ]
    },
    {
      "cell_type": "code",
      "metadata": {
        "colab": {
          "base_uri": "https://localhost:8080/"
        },
        "id": "t8Mcp4T3vrWP",
        "outputId": "bf606127-1947-462f-f1c2-a25559370491"
      },
      "source": [
        "def even(m):\n",
        "    if m>=2 and m<=5:\n",
        "        print(\"\\nNot Weird\")\n",
        "    elif m>=6 and m<=20:\n",
        "        print(\"\\nWeird\")\n",
        "    else:\n",
        "        print(\"\\nNot Weird\")\n",
        "\n",
        "def check(m):\n",
        "    if (m%2==0):\n",
        "        print(\"Even\")\n",
        "        even(m)\n",
        "    else: \n",
        "        print(\"Weird\")\n",
        "\n",
        "check(12)"
      ],
      "execution_count": null,
      "outputs": [
        {
          "output_type": "stream",
          "name": "stdout",
          "text": [
            "Even\n",
            "\n",
            "Weird\n"
          ]
        }
      ]
    },
    {
      "cell_type": "markdown",
      "metadata": {
        "id": "lTfsL6_9DWJY"
      },
      "source": [
        "# Problem 3\n"
      ]
    },
    {
      "cell_type": "code",
      "metadata": {
        "colab": {
          "base_uri": "https://localhost:8080/"
        },
        "id": "JaUByb76xZOn",
        "outputId": "3aed4657-eff5-429e-84d2-967ae9b328c1"
      },
      "source": [
        "A = [\"Ram\",\"Donald\",\"Joe\",\"Barrack\",\"Narendra\",\"Kim\",\"Swatah\",\"Matt\",\"George\"]\n",
        "name=input(\"Enter who you wanna check is fashionable late: \")\n",
        "\n",
        "for i in A:\n",
        "  if (name.lower()==i.lower()):\n",
        "    idx=A.index(i)\n",
        "    check(idx)\n",
        "\n",
        "def check(n):\n",
        "  mid=len(A)/2\n",
        "  last=len(A)-1\n",
        "  if (n>=mid and n<last):\n",
        "    print(\"Fashionably late\")\n",
        "  else:\n",
        "    print(\"Not fashionably late\")"
      ],
      "execution_count": null,
      "outputs": [
        {
          "output_type": "stream",
          "name": "stdout",
          "text": [
            "Enter who you wanna check is fashionable late: sWatah\n",
            "Fashionably late\n"
          ]
        }
      ]
    },
    {
      "cell_type": "markdown",
      "metadata": {
        "id": "iTeZSBWR4uDj"
      },
      "source": [
        "# Problem 4\n"
      ]
    },
    {
      "cell_type": "code",
      "metadata": {
        "colab": {
          "base_uri": "https://localhost:8080/"
        },
        "id": "_lDzV-Gy4yRW",
        "outputId": "907b65fa-75ce-4904-d58a-ee21e04d7067"
      },
      "source": [
        "List = [\"This is an example of an Article.\",\"This is another example.\",\"Cases get closed very fast.\",\"Examples are very efficient.\", \n",
        "        \"Not all example, yes.\",\"This is without the key word.\",\"This is just adding to the list.\",\"Example this is with the key word.\"]\n",
        "key=input(\"Enter the keyword: \")\n",
        "for i in List:\n",
        "  j=i.split()\n",
        "  for m in j:\n",
        "    if (m.lower()==key.lower()):\n",
        "      print(i)\n",
        "    elif (m.lower()==((key + '.').lower())) or (m.lower()==((key + ',').lower())):\n",
        "      print(i)"
      ],
      "execution_count": null,
      "outputs": [
        {
          "output_type": "stream",
          "name": "stdout",
          "text": [
            "Enter the keyword: example\n",
            "This is an example of an Article.\n",
            "This is another example.\n",
            "Not all example, yes.\n",
            "Example this is with the key word.\n"
          ]
        }
      ]
    },
    {
      "cell_type": "markdown",
      "metadata": {
        "id": "xHHfGZL6_X5a"
      },
      "source": [
        "# Problem 5\n"
      ]
    },
    {
      "cell_type": "code",
      "metadata": {
        "colab": {
          "base_uri": "https://localhost:8080/"
        },
        "id": "O3-DaKOU_ayD",
        "outputId": "75e7fd77-53e4-4477-eb51-3d9bc4a78fb4"
      },
      "source": [
        "BP=input(\"Enter your basic pay: \")\n",
        "DA=0.40*float(BP)\n",
        "HRA=0.20*float(BP)\n",
        "GP=float(BP)+float(DA)+float(HRA)\n",
        "print(GP)"
      ],
      "execution_count": null,
      "outputs": [
        {
          "output_type": "stream",
          "name": "stdout",
          "text": [
            "Enter your basic pay: 100\n",
            "160.0\n"
          ]
        }
      ]
    }
  ]
}