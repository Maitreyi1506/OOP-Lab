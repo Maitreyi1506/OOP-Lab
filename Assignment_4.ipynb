{
  "nbformat": 4,
  "nbformat_minor": 0,
  "metadata": {
    "colab": {
      "name": "Assignment 4.ipynb",
      "provenance": [],
      "collapsed_sections": [],
      "authorship_tag": "ABX9TyNfLY7BIcBylN6gqZHIXcTe",
      "include_colab_link": true
    },
    "kernelspec": {
      "name": "python3",
      "display_name": "Python 3"
    },
    "language_info": {
      "name": "python"
    }
  },
  "cells": [
    {
      "cell_type": "markdown",
      "metadata": {
        "id": "view-in-github",
        "colab_type": "text"
      },
      "source": [
        "<a href=\"https://colab.research.google.com/github/Maitreyi1506/OOP-Lab/blob/main/Assignment_4.ipynb\" target=\"_parent\"><img src=\"https://colab.research.google.com/assets/colab-badge.svg\" alt=\"Open In Colab\"/></a>"
      ]
    },
    {
      "cell_type": "markdown",
      "metadata": {
        "id": "y7ZWErLwB8M9"
      },
      "source": [
        "# Problem 1\n"
      ]
    },
    {
      "cell_type": "code",
      "metadata": {
        "colab": {
          "base_uri": "https://localhost:8080/"
        },
        "id": "Uw78b5ecB-3k",
        "outputId": "7fee3378-fed8-444d-85a8-f1cad2f9faa6"
      },
      "source": [
        "import os\n",
        "class node():\n",
        "  def __init__ (self):\n",
        "    self.data=[]                    #array to store data\n",
        "    self.next=[]                    #array to store address of next node\n",
        "\n",
        "  def __del__ (self):\n",
        "    print('The node has been deleted')\n",
        "\n",
        "\n",
        "class stack(node):\n",
        "  def __init__ (self):\n",
        "    node.__init__(self)\n",
        "    self.value=''\n",
        "\n",
        "  def isempty(self):\n",
        "    return self.data==[]\n",
        "  \n",
        "  def push(self,n):\n",
        "    self.data.append(n)\n",
        "\n",
        "  def pop(self):\n",
        "    m=self.data.pop()\n",
        "    print('The popped element is ',m)\n",
        "\n",
        "  def display(self):\n",
        "    print(self.data)\n",
        "\n",
        "s=stack()\n",
        "\n",
        "def code():\n",
        "  print('1. Push element \\n2. Pop element \\n3. Display elements \\n4. Check if stack is empty')\n",
        "  print('5. Exit')\n",
        "  m=int(input('Choose option: '))\n",
        "  if m==1:\n",
        "    n=input(\"enter value to be pushed: \")\n",
        "    s.push(n)\n",
        "  elif m==2: \n",
        "    s.pop()\n",
        "    s.__del__()\n",
        "  elif m==3:\n",
        "    s.display()\n",
        "  elif m==4:\n",
        "    print(s.isempty())\n",
        "  elif m==5:\n",
        "    os._exit(0)\n",
        "  else:\n",
        "    print(\"Incorrect choice\")\n",
        "m=0 \n",
        "while(m!=5):\n",
        "  code()\n",
        "\n",
        "del s"
      ],
      "execution_count": null,
      "outputs": [
        {
          "name": "stdout",
          "output_type": "stream",
          "text": [
            "1. Push element \n",
            "2. Pop element \n",
            "3. Display elements \n",
            "4. Check if stack is empty\n",
            "5. Exit\n",
            "Choose option: 1\n",
            "enter value to be pushed: 5\n",
            "1. Push element \n",
            "2. Pop element \n",
            "3. Display elements \n",
            "4. Check if stack is empty\n",
            "5. Exit\n",
            "Choose option: 1\n",
            "enter value to be pushed: 4\n",
            "1. Push element \n",
            "2. Pop element \n",
            "3. Display elements \n",
            "4. Check if stack is empty\n",
            "5. Exit\n",
            "Choose option: 1\n",
            "enter value to be pushed: 7\n",
            "1. Push element \n",
            "2. Pop element \n",
            "3. Display elements \n",
            "4. Check if stack is empty\n",
            "5. Exit\n",
            "Choose option: 3\n",
            "['5', '4', '7']\n",
            "1. Push element \n",
            "2. Pop element \n",
            "3. Display elements \n",
            "4. Check if stack is empty\n",
            "5. Exit\n",
            "Choose option: 4\n",
            "False\n",
            "1. Push element \n",
            "2. Pop element \n",
            "3. Display elements \n",
            "4. Check if stack is empty\n",
            "5. Exit\n",
            "Choose option: 2\n",
            "The popped element is  7\n",
            "The node has been deleted\n",
            "1. Push element \n",
            "2. Pop element \n",
            "3. Display elements \n",
            "4. Check if stack is empty\n",
            "5. Exit\n",
            "Choose option: 3\n",
            "['5', '4']\n",
            "1. Push element \n",
            "2. Pop element \n",
            "3. Display elements \n",
            "4. Check if stack is empty\n",
            "5. Exit\n",
            "Choose option: 5\n"
          ]
        }
      ]
    },
    {
      "cell_type": "markdown",
      "metadata": {
        "id": "E4PcZCOmQFKO"
      },
      "source": [
        "# Problem 2"
      ]
    },
    {
      "cell_type": "code",
      "metadata": {
        "colab": {
          "base_uri": "https://localhost:8080/"
        },
        "id": "WKLb1ojCQJLL",
        "outputId": "21378e00-0724-406d-977a-4df61c1a770d"
      },
      "source": [
        "class rect():                                   #this class uses parameterized constructors\n",
        "  def __init__ (self,length,breadth):\n",
        "    self.l=length\n",
        "    self.b=breadth\n",
        "  \n",
        "  def area(self):\n",
        "    return self.l*self.b\n",
        "\n",
        "class rectangle(rect):                          #this class uses default constructors\n",
        "  def __init__(self):\n",
        "    self.l=7\n",
        "    self.b=5\n",
        "\n",
        "m,n=int(input(\"Enter the length: \")),int(input(\"Enter the breadth: \"))\n",
        "r=rect(m,n)\n",
        "print(\"The area is \",r.area())      #parameterized\n",
        "\n",
        "r1=rectangle()\n",
        "print(\"The area is \",r1.area())      #default\n"
      ],
      "execution_count": 4,
      "outputs": [
        {
          "output_type": "stream",
          "name": "stdout",
          "text": [
            "Enter the length: 6\n",
            "Enter the breadth: 2\n",
            "The area is  12\n",
            "The are is  35\n"
          ]
        }
      ]
    },
    {
      "cell_type": "markdown",
      "metadata": {
        "id": "wqosBXGMTes3"
      },
      "source": [
        "# Problem 3\n"
      ]
    },
    {
      "cell_type": "code",
      "metadata": {
        "colab": {
          "base_uri": "https://localhost:8080/"
        },
        "id": "zjERGysyThCW",
        "outputId": "03dd3ce1-3576-4300-9dea-029b6b316886"
      },
      "source": [
        "import os\n",
        "class Queue():\n",
        "    def __init__(self,size):\n",
        "        self.queue=[]\n",
        "        self.size=size\n",
        "\n",
        "    def enqueue(self,data):\n",
        "        self.queue.insert(0,data)\n",
        "\n",
        "    def dequeue(self):\n",
        "        return self.queue.pop()\n",
        "\n",
        "    def isempty(self):\n",
        "        return self.queue==[]\n",
        "\n",
        "    def isfull(self):\n",
        "        return len(self.queue)==self.size\n",
        "\n",
        "    def display(self):\n",
        "        print(self.queue)\n",
        "\n",
        "    def _del_(self):\n",
        "        print(\"Queue Object Deleted successfully\")\n",
        "\n",
        "n=int(input(\"Enter size of queue: \"))\n",
        "q=Queue(n)\n",
        "\n",
        "def code():\n",
        "  print('1. Enqueue')\n",
        "  print('2. Dequeue')\n",
        "  print('3. Check if empty')\n",
        "  print('4. Check if full')\n",
        "  print('5. Display')\n",
        "  print('6. Exit')\n",
        "  m=int(input('Enter choice: '))\n",
        "  if m==1:\n",
        "    x=int(input('Enter value to be entered'))\n",
        "    q.enqueue(x)\n",
        "  elif m==2:\n",
        "    print('The value popped is : ',q.dequeue())\n",
        "  elif m==3:\n",
        "    print(q.isempty())\n",
        "  elif m==4:\n",
        "    print(q.isfull())\n",
        "  elif m==5:\n",
        "    q.display()\n",
        "  elif m==6:\n",
        "    os._exit(0)\n",
        "  else:\n",
        "    print(\"Incorrect choice\")\n",
        "\n",
        "m=0\n",
        "while(m!=6):\n",
        "  code()\n",
        "\n",
        "del q"
      ],
      "execution_count": null,
      "outputs": [
        {
          "name": "stdout",
          "output_type": "stream",
          "text": [
            "Enter size of queue: 3\n",
            "1. Enqueue\n",
            "2. Dequeue\n",
            "3. Check if empty\n",
            "4. Check if full\n",
            "5. Display\n",
            "6. Exit\n",
            "Enter choice: 1\n",
            "Enter value to be entered1\n",
            "1. Enqueue\n",
            "2. Dequeue\n",
            "3. Check if empty\n",
            "4. Check if full\n",
            "5. Display\n",
            "6. Exit\n",
            "Enter choice: 1\n",
            "Enter value to be entered2\n",
            "1. Enqueue\n",
            "2. Dequeue\n",
            "3. Check if empty\n",
            "4. Check if full\n",
            "5. Display\n",
            "6. Exit\n",
            "Enter choice: 1\n",
            "Enter value to be entered3\n",
            "1. Enqueue\n",
            "2. Dequeue\n",
            "3. Check if empty\n",
            "4. Check if full\n",
            "5. Display\n",
            "6. Exit\n",
            "Enter choice: 5\n",
            "[3, 2, 1]\n",
            "1. Enqueue\n",
            "2. Dequeue\n",
            "3. Check if empty\n",
            "4. Check if full\n",
            "5. Display\n",
            "6. Exit\n",
            "Enter choice: 4\n",
            "True\n",
            "1. Enqueue\n",
            "2. Dequeue\n",
            "3. Check if empty\n",
            "4. Check if full\n",
            "5. Display\n",
            "6. Exit\n",
            "Enter choice: 2\n",
            "The value popped is :  1\n",
            "1. Enqueue\n",
            "2. Dequeue\n",
            "3. Check if empty\n",
            "4. Check if full\n",
            "5. Display\n",
            "6. Exit\n",
            "Enter choice: 5\n",
            "[3, 2]\n",
            "1. Enqueue\n",
            "2. Dequeue\n",
            "3. Check if empty\n",
            "4. Check if full\n",
            "5. Display\n",
            "6. Exit\n",
            "Enter choice: 3\n",
            "False\n",
            "1. Enqueue\n",
            "2. Dequeue\n",
            "3. Check if empty\n",
            "4. Check if full\n",
            "5. Display\n",
            "6. Exit\n",
            "Enter choice: 6\n"
          ]
        }
      ]
    }
  ]
}