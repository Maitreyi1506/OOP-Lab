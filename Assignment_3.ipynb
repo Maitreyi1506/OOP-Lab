{
  "nbformat": 4,
  "nbformat_minor": 0,
  "metadata": {
    "colab": {
      "name": "Assignment 3.ipynb",
      "provenance": [],
      "collapsed_sections": [],
      "authorship_tag": "ABX9TyOseLk9GPvjoEiUPv7Es8fX",
      "include_colab_link": true
    },
    "kernelspec": {
      "name": "python3",
      "display_name": "Python 3"
    },
    "language_info": {
      "name": "python"
    }
  },
  "cells": [
    {
      "cell_type": "markdown",
      "metadata": {
        "id": "view-in-github",
        "colab_type": "text"
      },
      "source": [
        "<a href=\"https://colab.research.google.com/github/Maitreyi1506/OOP-Lab/blob/main/Assignment_3.ipynb\" target=\"_parent\"><img src=\"https://colab.research.google.com/assets/colab-badge.svg\" alt=\"Open In Colab\"/></a>"
      ]
    },
    {
      "cell_type": "markdown",
      "metadata": {
        "id": "UXXDyvIMl66s"
      },
      "source": [
        "# Problem 1"
      ]
    },
    {
      "cell_type": "code",
      "metadata": {
        "colab": {
          "base_uri": "https://localhost:8080/"
        },
        "id": "B80gi6bBl95K",
        "outputId": "af0e0cfa-00d1-4625-b15a-53d7f36290ca"
      },
      "source": [
        "class Student:\n",
        "  name=''\n",
        "  reg=''\n",
        "  age=''\n",
        "  gender=''\n",
        "  branch=''\n",
        "  sem=''\n",
        "  \n",
        "  def read(self):\n",
        "    Student.name=input(\"Enter your name: \")\n",
        "    Student.reg=int(input(\"Enter your registration number: \"))\n",
        "    Student.age=int(input(\"Enter your age: \"))\n",
        "    Student.gender=input(\"Enter your gender [m/f]: \")\n",
        "    Student.branch=input(\"Enter the branch: \")\n",
        "    Student.sem=int(input(\"Enter the semester number: \"))\n",
        "\n",
        "  def display(self):\n",
        "    print(\"The name is \",Student.name)\n",
        "    print(\"The registration number is: \",Student.reg)\n",
        "    print(\"The age is : \",Student.age)\n",
        "    print(\"The gender is: \",Student.gender)\n",
        "    print(\"The branch is: \",Student.branch)\n",
        "    print(\"The semester number is: \",Student.sem)\n",
        "\n",
        "class StudentResultInfo (Student):\n",
        "    marks1=79\n",
        "    marks2=86\n",
        "    marks3=98\n",
        "    total=marks1+marks2+marks3\n",
        "    percentage=float((total)/3)\n",
        "  \n",
        "    def gradecalc(percentage):\n",
        "      if percentage>90:\n",
        "        return 'A'\n",
        "      elif percentage>80 and percentage<90:\n",
        "       return 'B'\n",
        "      elif percentage>70 and percentage<80:\n",
        "        return 'C'\n",
        "      elif percentage>60 and percentage<70:\n",
        "        return 'D'\n",
        "      else:\n",
        "        return 'F'\n",
        "    \n",
        "    grade=gradecalc(percentage)\n",
        "    def display1(self):\n",
        "      print(\"The total marks are: \",StudentResultInfo.total)\n",
        "      print(\"The percentage is: \",StudentResultInfo.percentage)\n",
        "      print(\"The grade is: \",StudentResultInfo.grade)\n",
        "\n",
        "\n",
        "S1=StudentResultInfo()\n",
        "S1.read()\n",
        "S1.display()\n",
        "S1.display1()"
      ],
      "execution_count": 17,
      "outputs": [
        {
          "output_type": "stream",
          "name": "stdout",
          "text": [
            "Enter your name: Maitreyi\n",
            "Enter your registration number: 083\n",
            "Enter your age: 19\n",
            "Enter your gender [m/f]: f\n",
            "Enter the branch: CSE\n",
            "Enter the semester number: 03\n",
            "The name is  Maitreyi\n",
            "The registration number is:  83\n",
            "The age is :  19\n",
            "The gender is:  f\n",
            "The branch is:  CSE\n",
            "The semester number is:  3\n",
            "The total marks are:  263\n",
            "The percentage is:  87.66666666666667\n",
            "The grade is:  B\n"
          ]
        }
      ]
    },
    {
      "cell_type": "markdown",
      "metadata": {
        "id": "moxZpgAGzqiI"
      },
      "source": [
        "# Problem 2"
      ]
    },
    {
      "cell_type": "code",
      "metadata": {
        "colab": {
          "base_uri": "https://localhost:8080/"
        },
        "id": "t47AFMQUzvOD",
        "outputId": "aa52806c-442f-49b0-d825-69348490bf38"
      },
      "source": [
        "class pdf:\n",
        "  creator='XYZ'\n",
        "  description='Object Oriented Programming book'\n",
        "  size=840             #The size is considered in MB\n",
        "\n",
        "  def checksize(self):\n",
        "    if pdf.size>1024:\n",
        "      return True     #The size is greater than threshold\n",
        "    else:\n",
        "      return False    #The size is not greater than threshold\n",
        "    \n",
        "  def detail(self):\n",
        "    print(\"The creator is: \",pdf.creator)\n",
        "    print(\"Description: \",pdf.description)\n",
        "    print(\"File size: \",pdf.size)\n",
        "  \n",
        "class picture(pdf):\n",
        "  dimensions=3080   #The dimension is given as pixels\n",
        "\n",
        "  def checkdim(self):\n",
        "    if picture.dimensions>2160:\n",
        "      return True     #The dimensions are too big\n",
        "    else:\n",
        "      return False\n",
        "\n",
        "p=picture()\n",
        "p.detail()\n",
        "print(p.checksize())\n",
        "print(p.checkdim())"
      ],
      "execution_count": 25,
      "outputs": [
        {
          "output_type": "stream",
          "name": "stdout",
          "text": [
            "The creator is:  XYZ\n",
            "Description:  Object Oriented Programming book\n",
            "File size:  840\n",
            "False\n",
            "True\n"
          ]
        }
      ]
    },
    {
      "cell_type": "markdown",
      "metadata": {
        "id": "qyUIrpwo56EP"
      },
      "source": [
        "# Problem 3"
      ]
    },
    {
      "cell_type": "code",
      "metadata": {
        "colab": {
          "base_uri": "https://localhost:8080/"
        },
        "id": "4JVAJ9ys6Btb",
        "outputId": "fdb279fa-db72-47d1-a392-bcddf12910c1"
      },
      "source": [
        "class vehicle:\n",
        "  name='car'\n",
        "  mileage=25    #mileage is given in kmpl\n",
        "  capacity=7\n",
        "\n",
        "  def busfare(self):\n",
        "    return vehicle.capacity*100\n",
        "\n",
        "class bus(vehicle):\n",
        "  capacity=50\n",
        "  def busfare(self):\n",
        "    return float(1.1*(bus.capacity*100))\n",
        "\n",
        "v=vehicle()\n",
        "b=bus()\n",
        "print(v.busfare())\n",
        "print(b.busfare())"
      ],
      "execution_count": 27,
      "outputs": [
        {
          "output_type": "stream",
          "name": "stdout",
          "text": [
            "700\n",
            "5500.0\n"
          ]
        }
      ]
    }
  ]
}