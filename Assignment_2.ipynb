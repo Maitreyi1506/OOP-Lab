{
  "nbformat": 4,
  "nbformat_minor": 0,
  "metadata": {
    "colab": {
      "name": "Assignment 2.ipynb",
      "provenance": [],
      "collapsed_sections": [],
      "authorship_tag": "ABX9TyM7LHyrjIqIOcHL0Mee9K3G",
      "include_colab_link": true
    },
    "kernelspec": {
      "name": "python3",
      "display_name": "Python 3"
    },
    "language_info": {
      "name": "python"
    }
  },
  "cells": [
    {
      "cell_type": "markdown",
      "metadata": {
        "id": "view-in-github",
        "colab_type": "text"
      },
      "source": [
        "<a href=\"https://colab.research.google.com/github/Maitreyi1506/OOP-Lab/blob/main/Assignment_2.ipynb\" target=\"_parent\"><img src=\"https://colab.research.google.com/assets/colab-badge.svg\" alt=\"Open In Colab\"/></a>"
      ]
    },
    {
      "cell_type": "markdown",
      "metadata": {
        "id": "-j3_xO1Xnc_f"
      },
      "source": [
        "# Problem 1"
      ]
    },
    {
      "cell_type": "code",
      "metadata": {
        "colab": {
          "base_uri": "https://localhost:8080/"
        },
        "id": "X_b7fdcingZ8",
        "outputId": "788385c6-e594-4497-9c5c-cb19fb870406"
      },
      "source": [
        "radius=int(input(\"Enter the radius: \"))\n",
        "\n",
        "class circle:\n",
        "  def __init__(self):\n",
        "    self.radius = radius\n",
        "\n",
        "  def area (self):\n",
        "    self.area=3.14*(self.radius**2)\n",
        "    return self.area\n",
        "\n",
        "  def perimeter(self):\n",
        "    self.perimeter=6.28*self.radius\n",
        "    return self.perimeter\n",
        "\n",
        "c=circle()\n",
        "print(c.area())\n",
        "print(c.perimeter())"
      ],
      "execution_count": null,
      "outputs": [
        {
          "output_type": "stream",
          "name": "stdout",
          "text": [
            "Enter the radius: 5\n",
            "78.5\n",
            "31.400000000000002\n"
          ]
        }
      ]
    },
    {
      "cell_type": "markdown",
      "metadata": {
        "id": "88H76oqtod8Z"
      },
      "source": [
        "# Problem 2"
      ]
    },
    {
      "cell_type": "code",
      "metadata": {
        "id": "Ytzt-pUqohNv",
        "colab": {
          "base_uri": "https://localhost:8080/"
        },
        "outputId": "82fb95e0-811a-4eef-e1a4-19cbd1757fb3"
      },
      "source": [
        "class faculty:\n",
        "  def __init__(self,name,ID,branch,salary):\n",
        "    faculty.name=name\n",
        "    faculty.ID=ID\n",
        "    faculty.branch=branch\n",
        "    faculty.salary=salary\n",
        "\n",
        "f=[]\n",
        "\n",
        "def read():\n",
        "  f.append(faculty(input(\"Enter your name: \"),\n",
        "                   input(\"Enter your ID: \"),\n",
        "                   input(\"Enter your branch: \"),\n",
        "                   input(\"Enter your salary: \")))\n",
        "\n",
        "def display():\n",
        "  print(\"The employee name is \",f[i].name)\n",
        "  print(\"The employee ID is \",f[i].ID)\n",
        "  print(\"The employee's branch is \",f[i].branch)\n",
        "  print(\"The employee's salary is \",f[i].salary)\n",
        "\n",
        "i=0\n",
        "for i in range(5):\n",
        "  read()\n",
        "  display()"
      ],
      "execution_count": null,
      "outputs": [
        {
          "output_type": "stream",
          "name": "stdout",
          "text": [
            "Enter your name: Maitreyi\n",
            "Enter your ID: 1234\n",
            "Enter your branch: CSE\n",
            "Enter your salary: 10000\n",
            "The employee name is  Maitreyi\n",
            "The employee ID is  1234\n",
            "The employee's branch is  CSE\n",
            "The employee's salary is  10000\n",
            "Enter your name: Jay\n",
            "Enter your ID: 2345\n",
            "Enter your branch: ECE\n",
            "Enter your salary: 20000\n",
            "The employee name is  Jay\n",
            "The employee ID is  2345\n",
            "The employee's branch is  ECE\n",
            "The employee's salary is  20000\n",
            "Enter your name: Farhan\n",
            "Enter your ID: 5677\n",
            "Enter your branch: DSAI\n",
            "Enter your salary: 30000\n",
            "The employee name is  Farhan\n",
            "The employee ID is  5677\n",
            "The employee's branch is  DSAI\n",
            "The employee's salary is  30000\n",
            "Enter your name: Rosy\n",
            "Enter your ID: 6789\n",
            "Enter your branch: CSE\n",
            "Enter your salary: 2000\n",
            "The employee name is  Rosy\n",
            "The employee ID is  6789\n",
            "The employee's branch is  CSE\n",
            "The employee's salary is  2000\n",
            "Enter your name: Kinley\n",
            "Enter your ID: 5673\n",
            "Enter your branch: DSAI\n",
            "Enter your salary: 25000\n",
            "The employee name is  Kinley\n",
            "The employee ID is  5673\n",
            "The employee's branch is  DSAI\n",
            "The employee's salary is  25000\n"
          ]
        }
      ]
    },
    {
      "cell_type": "markdown",
      "metadata": {
        "id": "AR7InEFkHhPQ"
      },
      "source": [
        "# Problem 3\n"
      ]
    },
    {
      "cell_type": "code",
      "metadata": {
        "colab": {
          "base_uri": "https://localhost:8080/"
        },
        "id": "ftk27JVAHkxI",
        "outputId": "ef76f533-420c-45f1-adec-f583cc5a6871"
      },
      "source": [
        "class bank():\n",
        "    def __init__(self):\n",
        "        self.name=\"Maitreyi\"\n",
        "        self.accountnumber=409368351\n",
        "        self.amount=1000000\n",
        "\n",
        "    def deposit(self):\n",
        "        amount=int(input(\"Enter amount to be deposited:\"))\n",
        "        self.amount=self.amount+amount\n",
        "        print(\"Amount deposited\")\n",
        "\n",
        "    def withdraw(self):\n",
        "        amount=int(input(\"Enter money to be withdrawn:\"))\n",
        "        if(self.amount>=amount):\n",
        "            self.amount=self.amount-amount\n",
        "        else:\n",
        "            print(\"Insufficient Balance\")\n",
        "\n",
        "    def display(self):\n",
        "        return self.name,self.accountnumber,self.amount\n",
        "\n",
        "b=bank()\n",
        "b.deposit()\n",
        "b.withdraw()\n",
        "b.display()"
      ],
      "execution_count": null,
      "outputs": [
        {
          "name": "stdout",
          "output_type": "stream",
          "text": [
            "Enter amount to be deposited:48000\n",
            "Amount deposited\n",
            "Enter money to be withdrawn:5000\n"
          ]
        },
        {
          "output_type": "execute_result",
          "data": {
            "text/plain": [
              "('Maitreyi', 409368351, 1043000)"
            ]
          },
          "metadata": {},
          "execution_count": 34
        }
      ]
    },
    {
      "cell_type": "markdown",
      "metadata": {
        "id": "1DqabIgHeK4D"
      },
      "source": [
        "# Problem 4\n"
      ]
    },
    {
      "cell_type": "code",
      "metadata": {
        "id": "bAP7V-yCeOEC",
        "colab": {
          "base_uri": "https://localhost:8080/"
        },
        "outputId": "1a04f695-f214-48b0-97b0-3ace7df25922"
      },
      "source": [
        "class studentdetails():\n",
        "    def __init__(self,name,usn,subject1,subject2,subject3):\n",
        "        self.name=name\n",
        "        self.usn=usn\n",
        "        self.subject1=subject1\n",
        "        self.subject2=subject2\n",
        "        self.subject3=subject3\n",
        "    def display(self):\n",
        "        return self.name,self.usn,self.subject1,self.subject2,self.subject3\n",
        "i=[]\n",
        "name=input(\"Enter name:\")\n",
        "USN=int(input(\"Enter usn id:\"))\n",
        "for a in range(0,3):\n",
        "    o=int(input(\"Enter marks in subject:\"))\n",
        "    i.append(o)\n",
        "subject1=i[0]\n",
        "subject2=i[1]\n",
        "subject3=i[2]\n",
        "\n",
        "sd=studentdetails(name,USN,subject1,subject2,subject3)\n",
        "print(sd.display())"
      ],
      "execution_count": null,
      "outputs": [
        {
          "output_type": "stream",
          "name": "stdout",
          "text": [
            "Enter name:M\n",
            "Enter usn id:12\n",
            "Enter marks in subject:34\n",
            "Enter marks in subject:56\n",
            "Enter marks in subject:67\n",
            "('M', 12, 34, 56, 67)\n"
          ]
        }
      ]
    },
    {
      "cell_type": "markdown",
      "metadata": {
        "id": "e66YPRUfKqKe"
      },
      "source": [
        "# Problem 5"
      ]
    },
    {
      "cell_type": "code",
      "metadata": {
        "colab": {
          "base_uri": "https://localhost:8080/",
          "height": 305
        },
        "id": "MyRbc0siKsUh",
        "outputId": "8b556f9b-c7af-4e9b-f362-1f4f7d5816ac"
      },
      "source": [
        "import datetime\n",
        "class hospital():\n",
        "    def __init__(self,name,dateofadmission,symptoms,oxygenlevel,dateofdischarge):\n",
        "        self.name=name\n",
        "        self.dateofadmission=dateofadmission\n",
        "        self.symptoms=symptoms\n",
        "        self.oxygenlevel=oxygenlevel\n",
        "        self.dateofdischarge=dateofdischarge\n",
        "\n",
        "    def severity(self):\n",
        "        j=1\n",
        "        if(l<90):\n",
        "            print(\"Patient on oxygen support\")\n",
        "            j+=1\n",
        "        print(j,\"Patients are on oxygen support\")\n",
        "        print(\"There are \",j,\"patients in the hospital\")\n",
        "\n",
        "    def display(self):\n",
        "        return self.name,self.dateofadmission,self.symptoms,self.oxygenlevel,self.dateofdischarge\n",
        "\n",
        "i=[]\n",
        "j=[]\n",
        "k=[]\n",
        "m=[]\n",
        "n=int(input(\"Enter number of patients:\"))\n",
        "for a in range(0,n):\n",
        "    o=input(\"Enter name:\")\n",
        "    i.append(o)\n",
        "for a in range(0,n):\n",
        "    o=datetime.date(input(\"Enter date of admission:\"))\n",
        "    j.append(o)\n",
        "n=int(input(\"Enter number of symptoms:\"))\n",
        "for a in range(0,n):\n",
        "    o=input(\"Enter symptoms:\")\n",
        "    k.append(o)\n",
        "l=int(input(\"Enter oxygen level:\"))\n",
        "o=int(input(\"Enter date of discharge:\"))\n",
        "m.append(o)\n",
        "hospitaldata=hospital(i,j,k,l,m)\n",
        "hospitaldata.severity()\n",
        "print(hospitaldata.display())"
      ],
      "execution_count": null,
      "outputs": [
        {
          "name": "stdout",
          "output_type": "stream",
          "text": [
            "Enter number of patients:2\n",
            "Enter name:Maitreyi\n",
            "Enter name:Rosy\n",
            "Enter date of admission:2002,4,3\n"
          ]
        },
        {
          "output_type": "error",
          "ename": "TypeError",
          "evalue": "ignored",
          "traceback": [
            "\u001b[0;31m---------------------------------------------------------------------------\u001b[0m",
            "\u001b[0;31mTypeError\u001b[0m                                 Traceback (most recent call last)",
            "\u001b[0;32m<ipython-input-27-c2c978a36832>\u001b[0m in \u001b[0;36m<module>\u001b[0;34m()\u001b[0m\n\u001b[1;32m     28\u001b[0m     \u001b[0mi\u001b[0m\u001b[0;34m.\u001b[0m\u001b[0mappend\u001b[0m\u001b[0;34m(\u001b[0m\u001b[0mo\u001b[0m\u001b[0;34m)\u001b[0m\u001b[0;34m\u001b[0m\u001b[0;34m\u001b[0m\u001b[0m\n\u001b[1;32m     29\u001b[0m \u001b[0;32mfor\u001b[0m \u001b[0ma\u001b[0m \u001b[0;32min\u001b[0m \u001b[0mrange\u001b[0m\u001b[0;34m(\u001b[0m\u001b[0;36m0\u001b[0m\u001b[0;34m,\u001b[0m\u001b[0mn\u001b[0m\u001b[0;34m)\u001b[0m\u001b[0;34m:\u001b[0m\u001b[0;34m\u001b[0m\u001b[0;34m\u001b[0m\u001b[0m\n\u001b[0;32m---> 30\u001b[0;31m     \u001b[0mo\u001b[0m\u001b[0;34m=\u001b[0m\u001b[0mdatetime\u001b[0m\u001b[0;34m.\u001b[0m\u001b[0mdate\u001b[0m\u001b[0;34m(\u001b[0m\u001b[0minput\u001b[0m\u001b[0;34m(\u001b[0m\u001b[0;34m\"Enter date of admission:\"\u001b[0m\u001b[0;34m)\u001b[0m\u001b[0;34m)\u001b[0m\u001b[0;34m\u001b[0m\u001b[0;34m\u001b[0m\u001b[0m\n\u001b[0m\u001b[1;32m     31\u001b[0m     \u001b[0mj\u001b[0m\u001b[0;34m.\u001b[0m\u001b[0mappend\u001b[0m\u001b[0;34m(\u001b[0m\u001b[0mo\u001b[0m\u001b[0;34m)\u001b[0m\u001b[0;34m\u001b[0m\u001b[0;34m\u001b[0m\u001b[0m\n\u001b[1;32m     32\u001b[0m \u001b[0mn\u001b[0m\u001b[0;34m=\u001b[0m\u001b[0mint\u001b[0m\u001b[0;34m(\u001b[0m\u001b[0minput\u001b[0m\u001b[0;34m(\u001b[0m\u001b[0;34m\"Enter number of symptoms:\"\u001b[0m\u001b[0;34m)\u001b[0m\u001b[0;34m)\u001b[0m\u001b[0;34m\u001b[0m\u001b[0;34m\u001b[0m\u001b[0m\n",
            "\u001b[0;31mTypeError\u001b[0m: an integer is required (got type str)"
          ]
        }
      ]
    },
    {
      "cell_type": "markdown",
      "metadata": {
        "id": "wBYg88AEuV7D"
      },
      "source": [
        "# Problem 6"
      ]
    },
    {
      "cell_type": "code",
      "metadata": {
        "colab": {
          "base_uri": "https://localhost:8080/"
        },
        "id": "s1CwotuauZWf",
        "outputId": "2f2c0246-84aa-4119-f7b3-70278f056274"
      },
      "source": [
        "class time:\n",
        "  def __init__(self):\n",
        "    self.hours=0\n",
        "    self.minutes=0\n",
        "    self.seconds=0\n",
        "  \n",
        "  def values(self):\n",
        "    self.hours=6\n",
        "    self.minutes=30\n",
        "    self.seconds=49\n",
        "\n",
        "  def display(self):\n",
        "    print(self.hours,\":\",self.minutes,\":\",self.seconds)\n",
        "\n",
        "t=time()\n",
        "t.display()\n",
        "t.values()\n",
        "t.display()\n"
      ],
      "execution_count": null,
      "outputs": [
        {
          "output_type": "stream",
          "name": "stdout",
          "text": [
            "0 : 0 : 0\n",
            "6 : 30 : 49\n"
          ]
        }
      ]
    },
    {
      "cell_type": "markdown",
      "metadata": {
        "id": "sfVsTPLRYJ__"
      },
      "source": [
        "# Problem 7\n"
      ]
    },
    {
      "cell_type": "code",
      "metadata": {
        "colab": {
          "base_uri": "https://localhost:8080/"
        },
        "id": "evttWXLEYMS4",
        "outputId": "105a8907-27ca-4cbe-f5d2-d85b5b208463"
      },
      "source": [
        "class studentdetails():\n",
        "    def __init__(self,name,age,rollno):\n",
        "        self.name=name\n",
        "        self.age=age\n",
        "        self.rollno=rollno\n",
        "    def compare(self):\n",
        "        if(student1.age==student2.age):\n",
        "            print(\"They are of the same age\")\n",
        "        else:\n",
        "            print(\"They are not the same age\")\n",
        "\n",
        "\n",
        "student1=studentdetails(\"Rahul\",21,33)\n",
        "student2=studentdetails(\"Rohit\",22,74)\n",
        "student1.compare()"
      ],
      "execution_count": null,
      "outputs": [
        {
          "output_type": "stream",
          "name": "stdout",
          "text": [
            "They are not the same age\n"
          ]
        }
      ]
    },
    {
      "cell_type": "markdown",
      "metadata": {
        "id": "7109Md8PYW8j"
      },
      "source": [
        "# Problem 8\n"
      ]
    },
    {
      "cell_type": "code",
      "metadata": {
        "colab": {
          "base_uri": "https://localhost:8080/"
        },
        "id": "siwF0t74YZq8",
        "outputId": "a687c6cb-cf6e-405b-ab7f-f023d7375d79"
      },
      "source": [
        "class studentdetails():\n",
        "    sem=3\n",
        "    institute=\"iiitdwd\"\n",
        "    def __init__(self,name,usn):\n",
        "        self.name=name\n",
        "        self.usn=usn\n",
        "\n",
        "    @classmethod\n",
        "    def displaydetails(cls):\n",
        "        return cls.sem,cls.institute\n",
        "\n",
        "    @staticmethod\n",
        "    def show():\n",
        "        return \"This is a class of student details,printed using static method\"\n",
        "    def display(self):\n",
        "        return self.name,self.usn\n",
        "\n",
        "a=input(\"Enter name:\")\n",
        "b=int(input(\"Enter USN:\"))\n",
        "student=studentdetails(a,b)\n",
        "print(student.displaydetails())\n",
        "print(student.display())\n",
        "print(student.show())"
      ],
      "execution_count": null,
      "outputs": [
        {
          "output_type": "stream",
          "name": "stdout",
          "text": [
            "Enter name:Maitreyo\n",
            "Enter USN:234\n",
            "(3, 'iiitdwd')\n",
            "('Maitreyo', 234)\n",
            "This is a class of student details,printed using static method\n"
          ]
        }
      ]
    },
    {
      "cell_type": "markdown",
      "metadata": {
        "id": "qpbD1Q6TYoTV"
      },
      "source": [
        "# Problem 9"
      ]
    },
    {
      "cell_type": "code",
      "metadata": {
        "colab": {
          "base_uri": "https://localhost:8080/"
        },
        "id": "7hDcDLVUYrkV",
        "outputId": "648ee665-2497-4fe3-84f8-5e3b84b230e0"
      },
      "source": [
        "class student():\n",
        "    def __init__(self,name,rollno,sem):\n",
        "        self.name=name\n",
        "        self.rollno=rollno\n",
        "        self.sem=sem\n",
        "    def display(self):\n",
        "        return self.name,self.rollno,self.sem\n",
        "    class laptop():\n",
        "        def __init__(self,cpu,ram,harddisk,displaydetails,os,manufacturer):\n",
        "            self.cpu=cpu\n",
        "            self.ram=ram\n",
        "            self.harddisk=harddisk\n",
        "            self.displaydetails=displaydetails\n",
        "            self.os=os\n",
        "            self.manufacturer=manufacturer\n",
        "        def show(self):\n",
        "            return self.cpu,self.ram,self.harddisk,self.displaydetails,self.os,self.manufacturer\n",
        "a=input(\"Enter name:\")\n",
        "b=int(input(\"Enter roll number:\"))\n",
        "c=int(input(\"Enter sem:\"))\n",
        "studentdetails=student(a,b,c)\n",
        "a=input(\"Enter processor name:\")\n",
        "b=int(input(\"Enter RAM space:\"))\n",
        "c=int(input(\"Enter storage space:\"))\n",
        "d=int(input(\"Enter display size:\"))\n",
        "g=input(\"Enter OS details:\")\n",
        "i=input(\"Enter manufacturer:\")\n",
        "laptopdetails=studentdetails.laptop(a,b,c,d,g,i)\n",
        "print(studentdetails.display())\n",
        "print(laptopdetails.show())"
      ],
      "execution_count": null,
      "outputs": [
        {
          "output_type": "stream",
          "name": "stdout",
          "text": [
            "Enter name:Maitreyi\n",
            "Enter roll number:083\n",
            "Enter sem:3\n",
            "Enter processor name:Intel\n",
            "Enter RAM space:64\n",
            "Enter storage space:128\n",
            "Enter display size:23\n",
            "Enter OS details:Windows 10 and Ubuntu\n",
            "Enter manufacturer:HP\n",
            "('Maitreyi', 83, 3)\n",
            "('Intel', 64, 128, 23, 'Windows 10 and Ubuntu', 'HP')\n"
          ]
        }
      ]
    }
  ]
}