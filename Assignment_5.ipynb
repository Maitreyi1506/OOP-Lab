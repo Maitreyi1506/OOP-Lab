{
  "nbformat": 4,
  "nbformat_minor": 0,
  "metadata": {
    "colab": {
      "name": "Assignment 5.ipynb",
      "provenance": [],
      "collapsed_sections": [],
      "authorship_tag": "ABX9TyPFPvKicvWsPKBlC15Zf7By",
      "include_colab_link": true
    },
    "kernelspec": {
      "name": "python3",
      "display_name": "Python 3"
    },
    "language_info": {
      "name": "python"
    }
  },
  "cells": [
    {
      "cell_type": "markdown",
      "metadata": {
        "id": "view-in-github",
        "colab_type": "text"
      },
      "source": [
        "<a href=\"https://colab.research.google.com/github/Maitreyi1506/OOP-Lab/blob/main/Assignment_5.ipynb\" target=\"_parent\"><img src=\"https://colab.research.google.com/assets/colab-badge.svg\" alt=\"Open In Colab\"/></a>"
      ]
    },
    {
      "cell_type": "code",
      "metadata": {
        "colab": {
          "base_uri": "https://localhost:8080/"
        },
        "id": "mjmByiyoCVKc",
        "outputId": "f96558ba-ca40-4ebc-bc2d-86fe6e56044b"
      },
      "source": [
        "class Shape():\n",
        "    def __init__(self, choice):\n",
        "        self.shape = choice\n",
        "\n",
        "class Circle(Shape):\n",
        "    def __init__(self, radius):\n",
        "        Shape.__init__(self, 1)\n",
        "        self.radius = radius\n",
        "\n",
        "    def area(self):\n",
        "        return round(3.14*(float(self.radius)**2),3)\n",
        "\n",
        "class Square(Shape):\n",
        "    def __init__(self, side):\n",
        "        Shape.__init__(self, 2)\n",
        "        self.side = side\n",
        "\n",
        "    def area(self):\n",
        "        return self.side*self.side\n",
        "\n",
        "class Rectangle(Shape):\n",
        "    def __init__(self, length, breadth):\n",
        "        Shape.__init__(self, 3)\n",
        "        self.length = length\n",
        "        self.breadth = breadth\n",
        "\n",
        "    def area(self):\n",
        "        return self.length*self.breadth\n",
        "\n",
        "print(\"1. Circle \\n2. Square \\n3.Rectangle\")\n",
        "m=int(input(\"Enter your choice: \"))\n",
        "if m==1:\n",
        "  r=int(input(\"Enter the radius: \"))\n",
        "  c=Circle(r)\n",
        "  print(f\"The area is {c.area()} sq.units\")\n",
        "elif m==2:\n",
        "  n=int(input(\"Enter the length of side: \"))\n",
        "  s=Square(n)\n",
        "  print(f\"The area is {s.area()} sq.units\")\n",
        "elif m==3:\n",
        "  l,b=int(input(\"Enter the length: \")),int(input(\"Enter the breadth: \"))\n",
        "  r=Rectangle(l,b)\n",
        "  print(f\"The area is {r.area()} sq.units\")"
      ],
      "execution_count": null,
      "outputs": [
        {
          "output_type": "stream",
          "name": "stdout",
          "text": [
            "1. Circle \n",
            "2. Square \n",
            "3.Rectangle\n",
            "Enter your choice: 3\n",
            "Enter the length: 6\n",
            "Enter the breadth: 3\n",
            "The area is 18 sq.units\n"
          ]
        }
      ]
    },
    {
      "cell_type": "markdown",
      "metadata": {
        "id": "Cot44wTZFgK2"
      },
      "source": [
        "# Problem 2\n"
      ]
    },
    {
      "cell_type": "code",
      "metadata": {
        "colab": {
          "base_uri": "https://localhost:8080/"
        },
        "id": "zPXpb6k6FjGm",
        "outputId": "e52734d2-1791-4367-e369-b6f2c6e4b280"
      },
      "source": [
        "from abc import abstractmethod\n",
        "class Travel():\n",
        "    def __init__(self, num, distance, mode):\n",
        "        self.__num = num\n",
        "        self.distance = distance\n",
        "        self.mode = mode\n",
        "\n",
        "    @abstractmethod\n",
        "    def price(self):\n",
        "        pass\n",
        "\n",
        "class Bus(Travel):\n",
        "    def __init__(self, num, distance):\n",
        "        Travel.__init__(self, num, distance, 'Bus')\n",
        "\n",
        "    def price(self):\n",
        "        return 100*self._Travel__num                    \n",
        "\n",
        "class Train(Travel):\n",
        "    def __init__(self, num, distance):\n",
        "        Travel.__init__(self, num, distance, 'Train')\n",
        "\n",
        "    def price(self):\n",
        "        return 60*self._Travel__num\n",
        "\n",
        "dist=int(input(\"Enter the distance: \"))\n",
        "n=int(input(\"Enter the number of passengers: \"))\n",
        "t = Train(n, dist)\n",
        "print(f\"For train: {t.price()}\")\n",
        "b = Bus(n,dist)\n",
        "print(f\"For bus: {b.price()}\")"
      ],
      "execution_count": null,
      "outputs": [
        {
          "output_type": "stream",
          "name": "stdout",
          "text": [
            "Enter the distance: 20\n",
            "Enter the number of passengers: 3\n",
            "For train: 180\n",
            "For bus: 300\n"
          ]
        }
      ]
    },
    {
      "cell_type": "markdown",
      "metadata": {
        "id": "LkcsrWs0GwN0"
      },
      "source": [
        "# Problem 3"
      ]
    },
    {
      "cell_type": "code",
      "metadata": {
        "colab": {
          "base_uri": "https://localhost:8080/"
        },
        "id": "93VhGtV4Gy6m",
        "outputId": "8c1c3e0f-754f-4f53-90b8-9dfcf97ecd32"
      },
      "source": [
        "class Car:\n",
        "    def __init__(self, number):\n",
        "        self.n = number\n",
        "    \n",
        "    def setNum(self, num):\n",
        "        self.n = num\n",
        "\n",
        "def swap(obj1, obj2):\n",
        "    temp = obj1.n \n",
        "    obj1.setNum(obj2.n)\n",
        "    obj2.setNum(temp)\n",
        "\n",
        "c1 = Car(23425)\n",
        "c2 = Car(31178)\n",
        "print(f\"Before: c1: {c1.n} and c2: {c2.n}\")\n",
        "swap(c1, c2)\n",
        "print(f\"After : c1: {c1.n} and c2: {c2.n}\")"
      ],
      "execution_count": null,
      "outputs": [
        {
          "output_type": "stream",
          "name": "stdout",
          "text": [
            "Before: c1: 23425 and c2: 31178\n",
            "After : c1: 31178 and c2: 23425\n"
          ]
        }
      ]
    }
  ]
}